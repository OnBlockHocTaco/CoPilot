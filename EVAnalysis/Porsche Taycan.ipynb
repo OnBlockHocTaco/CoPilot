{
 "cells": [
  {
   "cell_type": "code",
   "execution_count": 1,
   "metadata": {},
   "outputs": [],
   "source": [
    "import pandas as pd\n",
    "import numpy as np\n",
    "xl = pd.ExcelFile(\"SELF-19712 - Monthly pull by trim.xlsx\")\n",
    "df = xl.parse(\"Sheet1\")\n",
    "Dates = [\"2020-05-01\", \"2020-06-01\", \"2020-07-01\", \"2020-08-01\", \"2020-09-01\", \"2020-10-01\", \"2020-11-01\",\n",
    "        \"2020-12-01\", \"2021-01-01\", \"2021-02-01\", \"2021-03-01\", \"2021-04-01\"]\n",
    "\n"
   ]
  },
  {
   "cell_type": "code",
   "execution_count": 13,
   "metadata": {},
   "outputs": [
    {
     "data": {
      "text/html": [
       "<div>\n",
       "<style scoped>\n",
       "    .dataframe tbody tr th:only-of-type {\n",
       "        vertical-align: middle;\n",
       "    }\n",
       "\n",
       "    .dataframe tbody tr th {\n",
       "        vertical-align: top;\n",
       "    }\n",
       "\n",
       "    .dataframe thead th {\n",
       "        text-align: right;\n",
       "    }\n",
       "</style>\n",
       "<table border=\"1\" class=\"dataframe\">\n",
       "  <thead>\n",
       "    <tr style=\"text-align: right;\">\n",
       "      <th></th>\n",
       "      <th>ReportDate</th>\n",
       "      <th>ModelYear</th>\n",
       "      <th>DivisionName</th>\n",
       "      <th>ModelName</th>\n",
       "      <th>Trim</th>\n",
       "      <th>StockType</th>\n",
       "      <th>vehicleCount</th>\n",
       "      <th>totalPrice</th>\n",
       "      <th>avgPriceCount</th>\n",
       "      <th>avgPrice</th>\n",
       "    </tr>\n",
       "  </thead>\n",
       "  <tbody>\n",
       "    <tr>\n",
       "      <th>66658</th>\n",
       "      <td>2020-05-01</td>\n",
       "      <td>2020</td>\n",
       "      <td>Porsche</td>\n",
       "      <td>Taycan</td>\n",
       "      <td>Turbo</td>\n",
       "      <td>used</td>\n",
       "      <td>11</td>\n",
       "      <td>1448388</td>\n",
       "      <td>8</td>\n",
       "      <td>181048.500000</td>\n",
       "    </tr>\n",
       "    <tr>\n",
       "      <th>66659</th>\n",
       "      <td>2020-05-01</td>\n",
       "      <td>2020</td>\n",
       "      <td>Porsche</td>\n",
       "      <td>Taycan</td>\n",
       "      <td>Turbo S</td>\n",
       "      <td>used</td>\n",
       "      <td>5</td>\n",
       "      <td>612343</td>\n",
       "      <td>3</td>\n",
       "      <td>204114.333333</td>\n",
       "    </tr>\n",
       "    <tr>\n",
       "      <th>72742</th>\n",
       "      <td>2020-05-01</td>\n",
       "      <td>2020</td>\n",
       "      <td>Porsche</td>\n",
       "      <td>Taycan</td>\n",
       "      <td>4S</td>\n",
       "      <td>new</td>\n",
       "      <td>117</td>\n",
       "      <td>14990079</td>\n",
       "      <td>111</td>\n",
       "      <td>135045.756757</td>\n",
       "    </tr>\n",
       "    <tr>\n",
       "      <th>72743</th>\n",
       "      <td>2020-05-01</td>\n",
       "      <td>2020</td>\n",
       "      <td>Porsche</td>\n",
       "      <td>Taycan</td>\n",
       "      <td>Turbo</td>\n",
       "      <td>new</td>\n",
       "      <td>240</td>\n",
       "      <td>39745749</td>\n",
       "      <td>227</td>\n",
       "      <td>175091.405286</td>\n",
       "    </tr>\n",
       "    <tr>\n",
       "      <th>72744</th>\n",
       "      <td>2020-05-01</td>\n",
       "      <td>2020</td>\n",
       "      <td>Porsche</td>\n",
       "      <td>Taycan</td>\n",
       "      <td>Turbo S</td>\n",
       "      <td>new</td>\n",
       "      <td>68</td>\n",
       "      <td>12725720</td>\n",
       "      <td>63</td>\n",
       "      <td>201995.555556</td>\n",
       "    </tr>\n",
       "  </tbody>\n",
       "</table>\n",
       "</div>"
      ],
      "text/plain": [
       "      ReportDate  ModelYear DivisionName ModelName     Trim StockType  \\\n",
       "66658 2020-05-01       2020      Porsche    Taycan    Turbo      used   \n",
       "66659 2020-05-01       2020      Porsche    Taycan  Turbo S      used   \n",
       "72742 2020-05-01       2020      Porsche    Taycan       4S       new   \n",
       "72743 2020-05-01       2020      Porsche    Taycan    Turbo       new   \n",
       "72744 2020-05-01       2020      Porsche    Taycan  Turbo S       new   \n",
       "\n",
       "       vehicleCount  totalPrice  avgPriceCount       avgPrice  \n",
       "66658            11     1448388              8  181048.500000  \n",
       "66659             5      612343              3  204114.333333  \n",
       "72742           117    14990079            111  135045.756757  \n",
       "72743           240    39745749            227  175091.405286  \n",
       "72744            68    12725720             63  201995.555556  "
      ]
     },
     "execution_count": 13,
     "metadata": {},
     "output_type": "execute_result"
    }
   ],
   "source": [
    "TaycanCheck = df.loc[(df['ReportDate'] == \"2020-05-01\") & (df['ModelYear'] == 2020) & (df[\"DivisionName\"] == \"Porsche\") & (df[\"ModelName\"] == \"Taycan\")]\n",
    "TaycanCheck.head()\n"
   ]
  },
  {
   "cell_type": "code",
   "execution_count": 8,
   "metadata": {},
   "outputs": [
    {
     "data": {
      "text/plain": [
       "<matplotlib.axes._subplots.AxesSubplot at 0x7f9a7ca10090>"
      ]
     },
     "execution_count": 8,
     "metadata": {},
     "output_type": "execute_result"
    },
    {
     "data": {
      "image/png": "[encoded data removed]",
      "text/plain": [
       "<Figure size 432x288 with 1 Axes>"
      ]
     },
     "metadata": {
      "needs_background": "light"
     },
     "output_type": "display_data"
    }
   ],
   "source": [
    "Taycan2020TrimCheck = df.loc[(df['ReportDate'] == \"2020-05-01\") & (df['ModelYear'] == 2020) & (df[\"DivisionName\"] == \"Porsche\") & (df[\"ModelName\"] == \"Taycan\")]\n",
    "Taycan2020TrimCheck.plot.bar(x='Trim', y='vehicleCount')"
   ]
  },
  {
   "cell_type": "code",
   "execution_count": 10,
   "metadata": {},
   "outputs": [
    {
     "data": {
      "text/plain": [
       "<matplotlib.axes._subplots.AxesSubplot at 0x7f9a7771f610>"
      ]
     },
     "execution_count": 10,
     "metadata": {},
     "output_type": "execute_result"
    },
    {
     "data": {
      "image/png": "[encoded data removed]",
      "text/plain": [
       "<Figure size 432x288 with 1 Axes>"
      ]
     },
     "metadata": {
      "needs_background": "light"
     },
     "output_type": "display_data"
    }
   ],
   "source": [
    "Taycan2020 = df.loc[(df['ReportDate'].isin(Dates)) & (df['ModelYear'] == 2020) & (df[\"DivisionName\"] == \"Porsche\") & (df[\"ModelName\"] == \"Taycan\") & (df[\"Trim\"] == \"Turbo\") & (df['StockType'] == \"used\")]\n",
    "Taycan2020.plot.line(x='ReportDate', y='avgPrice')"
   ]
  },
  {
   "cell_type": "code",
   "execution_count": 11,
   "metadata": {},
   "outputs": [
    {
     "data": {
      "text/plain": [
       "<matplotlib.axes._subplots.AxesSubplot at 0x7f9a777c7fd0>"
      ]
     },
     "execution_count": 11,
     "metadata": {},
     "output_type": "execute_result"
    },
    {
     "data": {
      "image/png": "[encoded data removed]",
      "text/plain": [
       "<Figure size 432x288 with 1 Axes>"
      ]
     },
     "metadata": {
      "needs_background": "light"
     },
     "output_type": "display_data"
    }
   ],
   "source": [
    "import numpy as np\n",
    "l = []\n",
    "for D in Dates:\n",
    "    num2020 = Taycan2020.loc[(df['ReportDate'] == D)]['avgPrice'].iloc[0]\n",
    "    l += [np.average([num2020])]\n",
    "\n",
    "data = {'Date': Dates,\n",
    "        'Price': l}\n",
    "Taycan = pd.DataFrame(data)  \n",
    "\n",
    "Taycan.plot.line(x='Date', y='Price')"
   ]
  },
  {
   "cell_type": "code",
   "execution_count": 15,
   "metadata": {},
   "outputs": [
    {
     "data": {
      "text/plain": [
       "<matplotlib.axes._subplots.AxesSubplot at 0x7f9a7a31acd0>"
      ]
     },
     "execution_count": 15,
     "metadata": {},
     "output_type": "execute_result"
    },
    {
     "data": {
      "image/png": "[encoded data removed]",
      "text/plain": [
       "<Figure size 432x288 with 1 Axes>"
      ]
     },
     "metadata": {
      "needs_background": "light"
     },
     "output_type": "display_data"
    }
   ],
   "source": [
    "maximum = max(l)\n",
    "minimum = min(l)\n",
    "standard = []\n",
    "for val in l:\n",
    "    standardized = (val - minimum) / (maximum - minimum)\n",
    "    standard += [standardized]\n",
    "data = {'Date': Dates,\n",
    "        'Price': standard}\n",
    "Taycan = pd.DataFrame(data)  \n",
    "\n",
    "Taycan.plot.line(x='Date', y='Price')  "
   ]
  },
  {
   "cell_type": "code",
   "execution_count": null,
   "metadata": {},
   "outputs": [],
   "source": []
  }
 ],
 "metadata": {
  "kernelspec": {
   "display_name": "Python 3",
   "language": "python",
   "name": "python3"
  },
  "language_info": {
   "codemirror_mode": {
    "name": "ipython",
    "version": 3
   },
   "file_extension": ".py",
   "mimetype": "text/x-python",
   "name": "python",
   "nbconvert_exporter": "python",
   "pygments_lexer": "ipython3",
   "version": "3.7.6"
  }
 },
 "nbformat": 4,
 "nbformat_minor": 4
}
