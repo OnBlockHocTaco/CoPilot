{
 "cells": [
  {
   "cell_type": "code",
   "execution_count": 2,
   "metadata": {},
   "outputs": [],
   "source": [
    "import pandas as pd\n",
    "xl = pd.ExcelFile(\"SELF-19712 - Monthly pull by trim.xlsx\")"
   ]
  },
  {
   "cell_type": "code",
   "execution_count": 3,
   "metadata": {},
   "outputs": [
    {
     "data": {
      "text/html": [
       "<div>\n",
       "<style scoped>\n",
       "    .dataframe tbody tr th:only-of-type {\n",
       "        vertical-align: middle;\n",
       "    }\n",
       "\n",
       "    .dataframe tbody tr th {\n",
       "        vertical-align: top;\n",
       "    }\n",
       "\n",
       "    .dataframe thead th {\n",
       "        text-align: right;\n",
       "    }\n",
       "</style>\n",
       "<table border=\"1\" class=\"dataframe\">\n",
       "  <thead>\n",
       "    <tr style=\"text-align: right;\">\n",
       "      <th></th>\n",
       "      <th>ReportDate</th>\n",
       "      <th>ModelYear</th>\n",
       "      <th>DivisionName</th>\n",
       "      <th>ModelName</th>\n",
       "      <th>Trim</th>\n",
       "      <th>StockType</th>\n",
       "      <th>vehicleCount</th>\n",
       "      <th>totalPrice</th>\n",
       "      <th>avgPriceCount</th>\n",
       "      <th>avgPrice</th>\n",
       "    </tr>\n",
       "  </thead>\n",
       "  <tbody>\n",
       "    <tr>\n",
       "      <th>0</th>\n",
       "      <td>2020-01-01</td>\n",
       "      <td>2015</td>\n",
       "      <td>Acura</td>\n",
       "      <td>ILX</td>\n",
       "      <td>NaN</td>\n",
       "      <td>used</td>\n",
       "      <td>44</td>\n",
       "      <td>512909</td>\n",
       "      <td>38</td>\n",
       "      <td>13497.605263</td>\n",
       "    </tr>\n",
       "    <tr>\n",
       "      <th>1</th>\n",
       "      <td>2020-01-01</td>\n",
       "      <td>2015</td>\n",
       "      <td>Acura</td>\n",
       "      <td>ILX</td>\n",
       "      <td>2.4L Premium Pkg</td>\n",
       "      <td>used</td>\n",
       "      <td>3</td>\n",
       "      <td>37177</td>\n",
       "      <td>3</td>\n",
       "      <td>12392.333333</td>\n",
       "    </tr>\n",
       "    <tr>\n",
       "      <th>2</th>\n",
       "      <td>2020-01-01</td>\n",
       "      <td>2015</td>\n",
       "      <td>Acura</td>\n",
       "      <td>ILX</td>\n",
       "      <td>Premium Pkg</td>\n",
       "      <td>used</td>\n",
       "      <td>18</td>\n",
       "      <td>252801</td>\n",
       "      <td>17</td>\n",
       "      <td>14870.647059</td>\n",
       "    </tr>\n",
       "    <tr>\n",
       "      <th>3</th>\n",
       "      <td>2020-01-01</td>\n",
       "      <td>2015</td>\n",
       "      <td>Acura</td>\n",
       "      <td>ILX</td>\n",
       "      <td>Tech Pkg</td>\n",
       "      <td>used</td>\n",
       "      <td>22</td>\n",
       "      <td>299293</td>\n",
       "      <td>22</td>\n",
       "      <td>13604.227273</td>\n",
       "    </tr>\n",
       "    <tr>\n",
       "      <th>4</th>\n",
       "      <td>2020-01-01</td>\n",
       "      <td>2015</td>\n",
       "      <td>Acura</td>\n",
       "      <td>MDX</td>\n",
       "      <td>NaN</td>\n",
       "      <td>used</td>\n",
       "      <td>34</td>\n",
       "      <td>674541</td>\n",
       "      <td>32</td>\n",
       "      <td>21079.406250</td>\n",
       "    </tr>\n",
       "  </tbody>\n",
       "</table>\n",
       "</div>"
      ],
      "text/plain": [
       "  ReportDate  ModelYear DivisionName ModelName              Trim StockType  \\\n",
       "0 2020-01-01       2015        Acura       ILX               NaN      used   \n",
       "1 2020-01-01       2015        Acura       ILX  2.4L Premium Pkg      used   \n",
       "2 2020-01-01       2015        Acura       ILX       Premium Pkg      used   \n",
       "3 2020-01-01       2015        Acura       ILX          Tech Pkg      used   \n",
       "4 2020-01-01       2015        Acura       MDX               NaN      used   \n",
       "\n",
       "   vehicleCount  totalPrice  avgPriceCount      avgPrice  \n",
       "0            44      512909             38  13497.605263  \n",
       "1             3       37177              3  12392.333333  \n",
       "2            18      252801             17  14870.647059  \n",
       "3            22      299293             22  13604.227273  \n",
       "4            34      674541             32  21079.406250  "
      ]
     },
     "execution_count": 3,
     "metadata": {},
     "output_type": "execute_result"
    }
   ],
   "source": [
    "df = xl.parse(\"Sheet1\")\n",
    "df.head()"
   ]
  },
  {
   "cell_type": "code",
   "execution_count": 4,
   "metadata": {},
   "outputs": [
    {
     "data": {
      "text/html": [
       "<div>\n",
       "<style scoped>\n",
       "    .dataframe tbody tr th:only-of-type {\n",
       "        vertical-align: middle;\n",
       "    }\n",
       "\n",
       "    .dataframe tbody tr th {\n",
       "        vertical-align: top;\n",
       "    }\n",
       "\n",
       "    .dataframe thead th {\n",
       "        text-align: right;\n",
       "    }\n",
       "</style>\n",
       "<table border=\"1\" class=\"dataframe\">\n",
       "  <thead>\n",
       "    <tr style=\"text-align: right;\">\n",
       "      <th></th>\n",
       "      <th>ReportDate</th>\n",
       "      <th>ModelYear</th>\n",
       "      <th>DivisionName</th>\n",
       "      <th>ModelName</th>\n",
       "      <th>Trim</th>\n",
       "      <th>StockType</th>\n",
       "      <th>vehicleCount</th>\n",
       "      <th>totalPrice</th>\n",
       "      <th>avgPriceCount</th>\n",
       "      <th>avgPrice</th>\n",
       "    </tr>\n",
       "  </thead>\n",
       "  <tbody>\n",
       "    <tr>\n",
       "      <th>0</th>\n",
       "      <td>2020-01-01</td>\n",
       "      <td>2015</td>\n",
       "      <td>Acura</td>\n",
       "      <td>ILX</td>\n",
       "      <td>NaN</td>\n",
       "      <td>used</td>\n",
       "      <td>44</td>\n",
       "      <td>512909</td>\n",
       "      <td>38</td>\n",
       "      <td>13497.605263</td>\n",
       "    </tr>\n",
       "    <tr>\n",
       "      <th>14251</th>\n",
       "      <td>2020-02-01</td>\n",
       "      <td>2015</td>\n",
       "      <td>Acura</td>\n",
       "      <td>ILX</td>\n",
       "      <td>NaN</td>\n",
       "      <td>used</td>\n",
       "      <td>43</td>\n",
       "      <td>478808</td>\n",
       "      <td>37</td>\n",
       "      <td>12940.756757</td>\n",
       "    </tr>\n",
       "    <tr>\n",
       "      <th>28815</th>\n",
       "      <td>2020-03-01</td>\n",
       "      <td>2015</td>\n",
       "      <td>Acura</td>\n",
       "      <td>ILX</td>\n",
       "      <td>NaN</td>\n",
       "      <td>used</td>\n",
       "      <td>50</td>\n",
       "      <td>615164</td>\n",
       "      <td>46</td>\n",
       "      <td>13373.130435</td>\n",
       "    </tr>\n",
       "    <tr>\n",
       "      <th>43389</th>\n",
       "      <td>2020-04-01</td>\n",
       "      <td>2015</td>\n",
       "      <td>Acura</td>\n",
       "      <td>ILX</td>\n",
       "      <td>NaN</td>\n",
       "      <td>used</td>\n",
       "      <td>34</td>\n",
       "      <td>420414</td>\n",
       "      <td>30</td>\n",
       "      <td>14013.800000</td>\n",
       "    </tr>\n",
       "    <tr>\n",
       "      <th>58221</th>\n",
       "      <td>2020-05-01</td>\n",
       "      <td>2015</td>\n",
       "      <td>Acura</td>\n",
       "      <td>ILX</td>\n",
       "      <td>NaN</td>\n",
       "      <td>used</td>\n",
       "      <td>41</td>\n",
       "      <td>504391</td>\n",
       "      <td>36</td>\n",
       "      <td>14010.861111</td>\n",
       "    </tr>\n",
       "  </tbody>\n",
       "</table>\n",
       "</div>"
      ],
      "text/plain": [
       "      ReportDate  ModelYear DivisionName ModelName Trim StockType  \\\n",
       "0     2020-01-01       2015        Acura       ILX  NaN      used   \n",
       "14251 2020-02-01       2015        Acura       ILX  NaN      used   \n",
       "28815 2020-03-01       2015        Acura       ILX  NaN      used   \n",
       "43389 2020-04-01       2015        Acura       ILX  NaN      used   \n",
       "58221 2020-05-01       2015        Acura       ILX  NaN      used   \n",
       "\n",
       "       vehicleCount  totalPrice  avgPriceCount      avgPrice  \n",
       "0                44      512909             38  13497.605263  \n",
       "14251            43      478808             37  12940.756757  \n",
       "28815            50      615164             46  13373.130435  \n",
       "43389            34      420414             30  14013.800000  \n",
       "58221            41      504391             36  14010.861111  "
      ]
     },
     "execution_count": 4,
     "metadata": {},
     "output_type": "execute_result"
    }
   ],
   "source": [
    "acuraILXNaN = df.loc[(df['ModelYear'] == 2015) & (df[\"DivisionName\"] == \"Acura\") & (df[\"ModelName\"] == \"ILX\") & (df[\"Trim\"].isnull())]\n",
    "acuraILXNaN.head()"
   ]
  },
  {
   "cell_type": "code",
   "execution_count": 5,
   "metadata": {},
   "outputs": [
    {
     "data": {
      "text/plain": [
       "<matplotlib.axes._subplots.AxesSubplot at 0x7f97ad577450>"
      ]
     },
     "execution_count": 5,
     "metadata": {},
     "output_type": "execute_result"
    },
    {
     "data": {
      "image/png": "[encoded data removed]",
      "text/plain": [
       "<Figure size 432x288 with 1 Axes>"
      ]
     },
     "metadata": {
      "needs_background": "light"
     },
     "output_type": "display_data"
    }
   ],
   "source": [
    "acuraILXNaN.plot.line(x='ReportDate', y='avgPrice')"
   ]
  },
  {
   "cell_type": "code",
   "execution_count": 6,
   "metadata": {},
   "outputs": [
    {
     "data": {
      "text/html": [
       "<div>\n",
       "<style scoped>\n",
       "    .dataframe tbody tr th:only-of-type {\n",
       "        vertical-align: middle;\n",
       "    }\n",
       "\n",
       "    .dataframe tbody tr th {\n",
       "        vertical-align: top;\n",
       "    }\n",
       "\n",
       "    .dataframe thead th {\n",
       "        text-align: right;\n",
       "    }\n",
       "</style>\n",
       "<table border=\"1\" class=\"dataframe\">\n",
       "  <thead>\n",
       "    <tr style=\"text-align: right;\">\n",
       "      <th></th>\n",
       "      <th>ReportDate</th>\n",
       "      <th>ModelYear</th>\n",
       "      <th>DivisionName</th>\n",
       "      <th>ModelName</th>\n",
       "      <th>Trim</th>\n",
       "      <th>StockType</th>\n",
       "      <th>vehicleCount</th>\n",
       "      <th>totalPrice</th>\n",
       "      <th>avgPriceCount</th>\n",
       "      <th>avgPrice</th>\n",
       "    </tr>\n",
       "  </thead>\n",
       "  <tbody>\n",
       "    <tr>\n",
       "      <th>3</th>\n",
       "      <td>2020-01-01</td>\n",
       "      <td>2015</td>\n",
       "      <td>Acura</td>\n",
       "      <td>ILX</td>\n",
       "      <td>Tech Pkg</td>\n",
       "      <td>used</td>\n",
       "      <td>22</td>\n",
       "      <td>299293</td>\n",
       "      <td>22</td>\n",
       "      <td>13604.227273</td>\n",
       "    </tr>\n",
       "    <tr>\n",
       "      <th>14254</th>\n",
       "      <td>2020-02-01</td>\n",
       "      <td>2015</td>\n",
       "      <td>Acura</td>\n",
       "      <td>ILX</td>\n",
       "      <td>Tech Pkg</td>\n",
       "      <td>used</td>\n",
       "      <td>18</td>\n",
       "      <td>254969</td>\n",
       "      <td>18</td>\n",
       "      <td>14164.944444</td>\n",
       "    </tr>\n",
       "    <tr>\n",
       "      <th>28818</th>\n",
       "      <td>2020-03-01</td>\n",
       "      <td>2015</td>\n",
       "      <td>Acura</td>\n",
       "      <td>ILX</td>\n",
       "      <td>Tech Pkg</td>\n",
       "      <td>used</td>\n",
       "      <td>20</td>\n",
       "      <td>264391</td>\n",
       "      <td>19</td>\n",
       "      <td>13915.315789</td>\n",
       "    </tr>\n",
       "    <tr>\n",
       "      <th>43392</th>\n",
       "      <td>2020-04-01</td>\n",
       "      <td>2015</td>\n",
       "      <td>Acura</td>\n",
       "      <td>ILX</td>\n",
       "      <td>Tech Pkg</td>\n",
       "      <td>used</td>\n",
       "      <td>22</td>\n",
       "      <td>313872</td>\n",
       "      <td>22</td>\n",
       "      <td>14266.909091</td>\n",
       "    </tr>\n",
       "    <tr>\n",
       "      <th>58224</th>\n",
       "      <td>2020-05-01</td>\n",
       "      <td>2015</td>\n",
       "      <td>Acura</td>\n",
       "      <td>ILX</td>\n",
       "      <td>Tech Pkg</td>\n",
       "      <td>used</td>\n",
       "      <td>23</td>\n",
       "      <td>288126</td>\n",
       "      <td>21</td>\n",
       "      <td>13720.285714</td>\n",
       "    </tr>\n",
       "  </tbody>\n",
       "</table>\n",
       "</div>"
      ],
      "text/plain": [
       "      ReportDate  ModelYear DivisionName ModelName      Trim StockType  \\\n",
       "3     2020-01-01       2015        Acura       ILX  Tech Pkg      used   \n",
       "14254 2020-02-01       2015        Acura       ILX  Tech Pkg      used   \n",
       "28818 2020-03-01       2015        Acura       ILX  Tech Pkg      used   \n",
       "43392 2020-04-01       2015        Acura       ILX  Tech Pkg      used   \n",
       "58224 2020-05-01       2015        Acura       ILX  Tech Pkg      used   \n",
       "\n",
       "       vehicleCount  totalPrice  avgPriceCount      avgPrice  \n",
       "3                22      299293             22  13604.227273  \n",
       "14254            18      254969             18  14164.944444  \n",
       "28818            20      264391             19  13915.315789  \n",
       "43392            22      313872             22  14266.909091  \n",
       "58224            23      288126             21  13720.285714  "
      ]
     },
     "execution_count": 6,
     "metadata": {},
     "output_type": "execute_result"
    }
   ],
   "source": [
    "acuraILXTech = df.loc[(df['ModelYear'] == 2015) & (df[\"DivisionName\"] == \"Acura\") & (df[\"ModelName\"] == \"ILX\") & (df[\"Trim\"] == \"Tech Pkg\")]\n",
    "acuraILXTech.head()"
   ]
  },
  {
   "cell_type": "code",
   "execution_count": 7,
   "metadata": {},
   "outputs": [
    {
     "data": {
      "text/plain": [
       "<matplotlib.axes._subplots.AxesSubplot at 0x7f97ac2caf10>"
      ]
     },
     "execution_count": 7,
     "metadata": {},
     "output_type": "execute_result"
    },
    {
     "data": {
      "image/png": "[encoded data removed]",
      "text/plain": [
       "<Figure size 432x288 with 1 Axes>"
      ]
     },
     "metadata": {
      "needs_background": "light"
     },
     "output_type": "display_data"
    }
   ],
   "source": [
    "acuraILXTech.plot.line(x='ReportDate', y='avgPrice')"
   ]
  },
  {
   "cell_type": "code",
   "execution_count": 8,
   "metadata": {},
   "outputs": [],
   "source": [
    "alfa = df.loc[(df['ModelYear'] == 2015) & (df[\"DivisionName\"] == \"Alfa Romeo\") & (df[\"ModelName\"] == \"4C\") & (df[\"Trim\"] == \"Launch Edition\")]"
   ]
  },
  {
   "cell_type": "code",
   "execution_count": 9,
   "metadata": {},
   "outputs": [
    {
     "data": {
      "text/plain": [
       "<matplotlib.axes._subplots.AxesSubplot at 0x7f97abc01a50>"
      ]
     },
     "execution_count": 9,
     "metadata": {},
     "output_type": "execute_result"
    },
    {
     "data": {
      "image/png": "[encoded data removed]",
      "text/plain": [
       "<Figure size 432x288 with 1 Axes>"
      ]
     },
     "metadata": {
      "needs_background": "light"
     },
     "output_type": "display_data"
    }
   ],
   "source": [
    "alfa.plot.line(x='ReportDate', y='avgPrice')"
   ]
  },
  {
   "cell_type": "code",
   "execution_count": 10,
   "metadata": {},
   "outputs": [],
   "source": [
    "audi = df.loc[(df['ModelYear'] == 2015) & (df[\"DivisionName\"] == \"Audi\") & (df[\"ModelName\"] == \"A3\") & (df[\"Trim\"] == \"1.8T Premium\")]"
   ]
  },
  {
   "cell_type": "code",
   "execution_count": 11,
   "metadata": {},
   "outputs": [
    {
     "data": {
      "text/plain": [
       "<matplotlib.axes._subplots.AxesSubplot at 0x7f97ab6258d0>"
      ]
     },
     "execution_count": 11,
     "metadata": {},
     "output_type": "execute_result"
    },
    {
     "data": {
      "image/png": "[encoded data removed]",
      "text/plain": [
       "<Figure size 432x288 with 1 Axes>"
      ]
     },
     "metadata": {
      "needs_background": "light"
     },
     "output_type": "display_data"
    }
   ],
   "source": [
    "audi.plot.line(x='ReportDate', y='avgPrice')"
   ]
  },
  {
   "cell_type": "code",
   "execution_count": 12,
   "metadata": {},
   "outputs": [],
   "source": [
    "BMW = df.loc[(df['ModelYear'] == 2015) & (df[\"DivisionName\"] == \"BMW\") & (df[\"ModelName\"] == \"6 Series\") & (df[\"Trim\"] == \"640i\")]"
   ]
  },
  {
   "cell_type": "code",
   "execution_count": 13,
   "metadata": {},
   "outputs": [
    {
     "data": {
      "text/plain": [
       "<matplotlib.axes._subplots.AxesSubplot at 0x7f97aaf01690>"
      ]
     },
     "execution_count": 13,
     "metadata": {},
     "output_type": "execute_result"
    },
    {
     "data": {
      "image/png": "[encoded data removed]",
      "text/plain": [
       "<Figure size 432x288 with 1 Axes>"
      ]
     },
     "metadata": {
      "needs_background": "light"
     },
     "output_type": "display_data"
    }
   ],
   "source": [
    "BMW.plot.line(x='ReportDate', y='avgPrice')"
   ]
  },
  {
   "cell_type": "code",
   "execution_count": 14,
   "metadata": {},
   "outputs": [
    {
     "data": {
      "text/html": [
       "<div>\n",
       "<style scoped>\n",
       "    .dataframe tbody tr th:only-of-type {\n",
       "        vertical-align: middle;\n",
       "    }\n",
       "\n",
       "    .dataframe tbody tr th {\n",
       "        vertical-align: top;\n",
       "    }\n",
       "\n",
       "    .dataframe thead th {\n",
       "        text-align: right;\n",
       "    }\n",
       "</style>\n",
       "<table border=\"1\" class=\"dataframe\">\n",
       "  <thead>\n",
       "    <tr style=\"text-align: right;\">\n",
       "      <th></th>\n",
       "      <th>ReportDate</th>\n",
       "      <th>ModelYear</th>\n",
       "      <th>DivisionName</th>\n",
       "      <th>ModelName</th>\n",
       "      <th>Trim</th>\n",
       "      <th>StockType</th>\n",
       "      <th>vehicleCount</th>\n",
       "      <th>totalPrice</th>\n",
       "      <th>avgPriceCount</th>\n",
       "      <th>avgPrice</th>\n",
       "    </tr>\n",
       "  </thead>\n",
       "  <tbody>\n",
       "    <tr>\n",
       "      <th>1169</th>\n",
       "      <td>2020-01-01</td>\n",
       "      <td>2015</td>\n",
       "      <td>Tesla</td>\n",
       "      <td>Model S</td>\n",
       "      <td>60 kWh Battery</td>\n",
       "      <td>used</td>\n",
       "      <td>4</td>\n",
       "      <td>163637</td>\n",
       "      <td>4</td>\n",
       "      <td>40909.250000</td>\n",
       "    </tr>\n",
       "    <tr>\n",
       "      <th>1170</th>\n",
       "      <td>2020-01-01</td>\n",
       "      <td>2015</td>\n",
       "      <td>Tesla</td>\n",
       "      <td>Model S</td>\n",
       "      <td>70 kWh Battery</td>\n",
       "      <td>used</td>\n",
       "      <td>4</td>\n",
       "      <td>158945</td>\n",
       "      <td>4</td>\n",
       "      <td>39736.250000</td>\n",
       "    </tr>\n",
       "    <tr>\n",
       "      <th>1171</th>\n",
       "      <td>2020-01-01</td>\n",
       "      <td>2015</td>\n",
       "      <td>Tesla</td>\n",
       "      <td>Model S</td>\n",
       "      <td>70D</td>\n",
       "      <td>used</td>\n",
       "      <td>18</td>\n",
       "      <td>798354</td>\n",
       "      <td>18</td>\n",
       "      <td>44353.000000</td>\n",
       "    </tr>\n",
       "    <tr>\n",
       "      <th>1172</th>\n",
       "      <td>2020-01-01</td>\n",
       "      <td>2015</td>\n",
       "      <td>Tesla</td>\n",
       "      <td>Model S</td>\n",
       "      <td>85 kWh Battery</td>\n",
       "      <td>used</td>\n",
       "      <td>5</td>\n",
       "      <td>199304</td>\n",
       "      <td>5</td>\n",
       "      <td>39860.800000</td>\n",
       "    </tr>\n",
       "    <tr>\n",
       "      <th>1173</th>\n",
       "      <td>2020-01-01</td>\n",
       "      <td>2015</td>\n",
       "      <td>Tesla</td>\n",
       "      <td>Model S</td>\n",
       "      <td>85D</td>\n",
       "      <td>used</td>\n",
       "      <td>25</td>\n",
       "      <td>1086005</td>\n",
       "      <td>23</td>\n",
       "      <td>47217.608696</td>\n",
       "    </tr>\n",
       "    <tr>\n",
       "      <th>...</th>\n",
       "      <td>...</td>\n",
       "      <td>...</td>\n",
       "      <td>...</td>\n",
       "      <td>...</td>\n",
       "      <td>...</td>\n",
       "      <td>...</td>\n",
       "      <td>...</td>\n",
       "      <td>...</td>\n",
       "      <td>...</td>\n",
       "      <td>...</td>\n",
       "    </tr>\n",
       "    <tr>\n",
       "      <th>239386</th>\n",
       "      <td>2021-04-01</td>\n",
       "      <td>2021</td>\n",
       "      <td>Tesla</td>\n",
       "      <td>Model 3</td>\n",
       "      <td>Standard Range Plus</td>\n",
       "      <td>used</td>\n",
       "      <td>5</td>\n",
       "      <td>217556</td>\n",
       "      <td>5</td>\n",
       "      <td>43511.200000</td>\n",
       "    </tr>\n",
       "    <tr>\n",
       "      <th>239387</th>\n",
       "      <td>2021-04-01</td>\n",
       "      <td>2021</td>\n",
       "      <td>Tesla</td>\n",
       "      <td>Model Y</td>\n",
       "      <td>Long Range</td>\n",
       "      <td>used</td>\n",
       "      <td>20</td>\n",
       "      <td>963185</td>\n",
       "      <td>17</td>\n",
       "      <td>56657.941176</td>\n",
       "    </tr>\n",
       "    <tr>\n",
       "      <th>239388</th>\n",
       "      <td>2021-04-01</td>\n",
       "      <td>2021</td>\n",
       "      <td>Tesla</td>\n",
       "      <td>Model Y</td>\n",
       "      <td>Performance</td>\n",
       "      <td>used</td>\n",
       "      <td>1</td>\n",
       "      <td>63999</td>\n",
       "      <td>1</td>\n",
       "      <td>63999.000000</td>\n",
       "    </tr>\n",
       "    <tr>\n",
       "      <th>239389</th>\n",
       "      <td>2021-04-01</td>\n",
       "      <td>2021</td>\n",
       "      <td>Tesla</td>\n",
       "      <td>Model Y</td>\n",
       "      <td>Standard Range</td>\n",
       "      <td>used</td>\n",
       "      <td>5</td>\n",
       "      <td>161679</td>\n",
       "      <td>3</td>\n",
       "      <td>53893.000000</td>\n",
       "    </tr>\n",
       "    <tr>\n",
       "      <th>240498</th>\n",
       "      <td>2021-04-01</td>\n",
       "      <td>2017</td>\n",
       "      <td>Tesla</td>\n",
       "      <td>Model S</td>\n",
       "      <td>60D</td>\n",
       "      <td>new</td>\n",
       "      <td>1</td>\n",
       "      <td>42495</td>\n",
       "      <td>1</td>\n",
       "      <td>42495.000000</td>\n",
       "    </tr>\n",
       "  </tbody>\n",
       "</table>\n",
       "<p>1197 rows × 10 columns</p>\n",
       "</div>"
      ],
      "text/plain": [
       "       ReportDate  ModelYear DivisionName ModelName                 Trim  \\\n",
       "1169   2020-01-01       2015        Tesla   Model S       60 kWh Battery   \n",
       "1170   2020-01-01       2015        Tesla   Model S       70 kWh Battery   \n",
       "1171   2020-01-01       2015        Tesla   Model S                  70D   \n",
       "1172   2020-01-01       2015        Tesla   Model S       85 kWh Battery   \n",
       "1173   2020-01-01       2015        Tesla   Model S                  85D   \n",
       "...           ...        ...          ...       ...                  ...   \n",
       "239386 2021-04-01       2021        Tesla   Model 3  Standard Range Plus   \n",
       "239387 2021-04-01       2021        Tesla   Model Y           Long Range   \n",
       "239388 2021-04-01       2021        Tesla   Model Y          Performance   \n",
       "239389 2021-04-01       2021        Tesla   Model Y       Standard Range   \n",
       "240498 2021-04-01       2017        Tesla   Model S                  60D   \n",
       "\n",
       "       StockType  vehicleCount  totalPrice  avgPriceCount      avgPrice  \n",
       "1169        used             4      163637              4  40909.250000  \n",
       "1170        used             4      158945              4  39736.250000  \n",
       "1171        used            18      798354             18  44353.000000  \n",
       "1172        used             5      199304              5  39860.800000  \n",
       "1173        used            25     1086005             23  47217.608696  \n",
       "...          ...           ...         ...            ...           ...  \n",
       "239386      used             5      217556              5  43511.200000  \n",
       "239387      used            20      963185             17  56657.941176  \n",
       "239388      used             1       63999              1  63999.000000  \n",
       "239389      used             5      161679              3  53893.000000  \n",
       "240498       new             1       42495              1  42495.000000  \n",
       "\n",
       "[1197 rows x 10 columns]"
      ]
     },
     "execution_count": 14,
     "metadata": {},
     "output_type": "execute_result"
    }
   ],
   "source": [
    "df.loc[df[\"DivisionName\"] == \"Tesla\"]"
   ]
  },
  {
   "cell_type": "code",
   "execution_count": 15,
   "metadata": {},
   "outputs": [],
   "source": [
    "Tesla = df.loc[(df['ModelYear'] == 2015) & (df[\"DivisionName\"] == \"Tesla\") & (df[\"ModelName\"] == \"Model S\") & (df[\"Trim\"] == \"60 kWh Battery\")]"
   ]
  },
  {
   "cell_type": "code",
   "execution_count": 16,
   "metadata": {},
   "outputs": [
    {
     "data": {
      "text/plain": [
       "<matplotlib.axes._subplots.AxesSubplot at 0x7f97a7a5ded0>"
      ]
     },
     "execution_count": 16,
     "metadata": {},
     "output_type": "execute_result"
    },
    {
     "data": {
      "image/png": "[encoded data removed]",
      "text/plain": [
       "<Figure size 432x288 with 1 Axes>"
      ]
     },
     "metadata": {
      "needs_background": "light"
     },
     "output_type": "display_data"
    }
   ],
   "source": [
    "Tesla.plot.line(x='ReportDate', y='avgPrice')"
   ]
  },
  {
   "cell_type": "code",
   "execution_count": 17,
   "metadata": {},
   "outputs": [],
   "source": [
    "TeslaAgain = df.loc[(df['ModelYear'] == 2015) & (df[\"DivisionName\"] == \"Tesla\") & (df[\"ModelName\"] == \"Model S\")]"
   ]
  },
  {
   "cell_type": "code",
   "execution_count": 18,
   "metadata": {},
   "outputs": [
    {
     "data": {
      "text/plain": [
       "<matplotlib.axes._subplots.AxesSubplot at 0x7f97aa44b210>"
      ]
     },
     "execution_count": 18,
     "metadata": {},
     "output_type": "execute_result"
    },
    {
     "data": {
      "image/png": "[encoded data removed]",
      "text/plain": [
       "<Figure size 432x288 with 1 Axes>"
      ]
     },
     "metadata": {
      "needs_background": "light"
     },
     "output_type": "display_data"
    }
   ],
   "source": [
    "TeslaAgain.plot.line(x='ReportDate', y='avgPrice')"
   ]
  },
  {
   "cell_type": "code",
   "execution_count": 19,
   "metadata": {},
   "outputs": [],
   "source": [
    "Mod3 = df.loc[(df['ModelYear'] == 2020) & (df[\"DivisionName\"] == \"Tesla\") & (df[\"ModelName\"] == \"Model 3\") & (df[\"Trim\"] == \"Standard Range Plus\")]"
   ]
  },
  {
   "cell_type": "code",
   "execution_count": 20,
   "metadata": {},
   "outputs": [
    {
     "data": {
      "text/plain": [
       "<matplotlib.axes._subplots.AxesSubplot at 0x7f97a9a3e950>"
      ]
     },
     "execution_count": 20,
     "metadata": {},
     "output_type": "execute_result"
    },
    {
     "data": {
      "image/png": "[encoded data removed]",
      "text/plain": [
       "<Figure size 432x288 with 1 Axes>"
      ]
     },
     "metadata": {
      "needs_background": "light"
     },
     "output_type": "display_data"
    }
   ],
   "source": [
    "Mod3.plot.line(x='ReportDate', y='avgPrice')"
   ]
  },
  {
   "cell_type": "code",
   "execution_count": 30,
   "metadata": {},
   "outputs": [
    {
     "data": {
      "text/html": [
       "<div>\n",
       "<style scoped>\n",
       "    .dataframe tbody tr th:only-of-type {\n",
       "        vertical-align: middle;\n",
       "    }\n",
       "\n",
       "    .dataframe tbody tr th {\n",
       "        vertical-align: top;\n",
       "    }\n",
       "\n",
       "    .dataframe thead th {\n",
       "        text-align: right;\n",
       "    }\n",
       "</style>\n",
       "<table border=\"1\" class=\"dataframe\">\n",
       "  <thead>\n",
       "    <tr style=\"text-align: right;\">\n",
       "      <th></th>\n",
       "      <th>ReportDate</th>\n",
       "      <th>ModelYear</th>\n",
       "      <th>DivisionName</th>\n",
       "      <th>ModelName</th>\n",
       "      <th>Trim</th>\n",
       "      <th>StockType</th>\n",
       "      <th>vehicleCount</th>\n",
       "      <th>totalPrice</th>\n",
       "      <th>avgPriceCount</th>\n",
       "      <th>avgPrice</th>\n",
       "    </tr>\n",
       "  </thead>\n",
       "  <tbody>\n",
       "    <tr>\n",
       "      <th>991</th>\n",
       "      <td>2020-01-01</td>\n",
       "      <td>2015</td>\n",
       "      <td>Nissan</td>\n",
       "      <td>LEAF</td>\n",
       "      <td>S</td>\n",
       "      <td>used</td>\n",
       "      <td>78</td>\n",
       "      <td>748299</td>\n",
       "      <td>71</td>\n",
       "      <td>10539.422535</td>\n",
       "    </tr>\n",
       "    <tr>\n",
       "      <th>15237</th>\n",
       "      <td>2020-02-01</td>\n",
       "      <td>2015</td>\n",
       "      <td>Nissan</td>\n",
       "      <td>LEAF</td>\n",
       "      <td>S</td>\n",
       "      <td>used</td>\n",
       "      <td>94</td>\n",
       "      <td>908088</td>\n",
       "      <td>86</td>\n",
       "      <td>10559.162791</td>\n",
       "    </tr>\n",
       "    <tr>\n",
       "      <th>29800</th>\n",
       "      <td>2020-03-01</td>\n",
       "      <td>2015</td>\n",
       "      <td>Nissan</td>\n",
       "      <td>LEAF</td>\n",
       "      <td>S</td>\n",
       "      <td>used</td>\n",
       "      <td>93</td>\n",
       "      <td>939355</td>\n",
       "      <td>89</td>\n",
       "      <td>10554.550562</td>\n",
       "    </tr>\n",
       "    <tr>\n",
       "      <th>44371</th>\n",
       "      <td>2020-04-01</td>\n",
       "      <td>2015</td>\n",
       "      <td>Nissan</td>\n",
       "      <td>LEAF</td>\n",
       "      <td>S</td>\n",
       "      <td>used</td>\n",
       "      <td>86</td>\n",
       "      <td>854253</td>\n",
       "      <td>82</td>\n",
       "      <td>10417.719512</td>\n",
       "    </tr>\n",
       "    <tr>\n",
       "      <th>59210</th>\n",
       "      <td>2020-05-01</td>\n",
       "      <td>2015</td>\n",
       "      <td>Nissan</td>\n",
       "      <td>LEAF</td>\n",
       "      <td>S</td>\n",
       "      <td>used</td>\n",
       "      <td>99</td>\n",
       "      <td>964959</td>\n",
       "      <td>96</td>\n",
       "      <td>10051.656250</td>\n",
       "    </tr>\n",
       "  </tbody>\n",
       "</table>\n",
       "</div>"
      ],
      "text/plain": [
       "      ReportDate  ModelYear DivisionName ModelName Trim StockType  \\\n",
       "991   2020-01-01       2015       Nissan      LEAF    S      used   \n",
       "15237 2020-02-01       2015       Nissan      LEAF    S      used   \n",
       "29800 2020-03-01       2015       Nissan      LEAF    S      used   \n",
       "44371 2020-04-01       2015       Nissan      LEAF    S      used   \n",
       "59210 2020-05-01       2015       Nissan      LEAF    S      used   \n",
       "\n",
       "       vehicleCount  totalPrice  avgPriceCount      avgPrice  \n",
       "991              78      748299             71  10539.422535  \n",
       "15237            94      908088             86  10559.162791  \n",
       "29800            93      939355             89  10554.550562  \n",
       "44371            86      854253             82  10417.719512  \n",
       "59210            99      964959             96  10051.656250  "
      ]
     },
     "execution_count": 30,
     "metadata": {},
     "output_type": "execute_result"
    }
   ],
   "source": [
    "leaf = df.loc[(df['ModelYear'] == 2015) & (df[\"DivisionName\"] == \"Nissan\") & (df[\"ModelName\"] == \"LEAF\") & (df[\"Trim\"] == \"S\") & (df[\"StockType\"] == \"used\")]\n",
    "leaf.head()"
   ]
  },
  {
   "cell_type": "code",
   "execution_count": 31,
   "metadata": {},
   "outputs": [
    {
     "data": {
      "text/plain": [
       "<matplotlib.axes._subplots.AxesSubplot at 0x7f97a9032090>"
      ]
     },
     "execution_count": 31,
     "metadata": {},
     "output_type": "execute_result"
    },
    {
     "data": {
      "image/png": "[encoded data removed]",
      "text/plain": [
       "<Figure size 432x288 with 1 Axes>"
      ]
     },
     "metadata": {
      "needs_background": "light"
     },
     "output_type": "display_data"
    }
   ],
   "source": [
    "leaf.plot.line(x='ReportDate', y='avgPrice')"
   ]
  },
  {
   "cell_type": "code",
   "execution_count": 37,
   "metadata": {},
   "outputs": [
    {
     "data": {
      "text/html": [
       "<div>\n",
       "<style scoped>\n",
       "    .dataframe tbody tr th:only-of-type {\n",
       "        vertical-align: middle;\n",
       "    }\n",
       "\n",
       "    .dataframe tbody tr th {\n",
       "        vertical-align: top;\n",
       "    }\n",
       "\n",
       "    .dataframe thead th {\n",
       "        text-align: right;\n",
       "    }\n",
       "</style>\n",
       "<table border=\"1\" class=\"dataframe\">\n",
       "  <thead>\n",
       "    <tr style=\"text-align: right;\">\n",
       "      <th></th>\n",
       "      <th>ReportDate</th>\n",
       "      <th>ModelYear</th>\n",
       "      <th>DivisionName</th>\n",
       "      <th>ModelName</th>\n",
       "      <th>Trim</th>\n",
       "      <th>StockType</th>\n",
       "      <th>vehicleCount</th>\n",
       "      <th>totalPrice</th>\n",
       "      <th>avgPriceCount</th>\n",
       "      <th>avgPrice</th>\n",
       "    </tr>\n",
       "  </thead>\n",
       "  <tbody>\n",
       "    <tr>\n",
       "      <th>5538</th>\n",
       "      <td>2020-01-01</td>\n",
       "      <td>2018</td>\n",
       "      <td>Nissan</td>\n",
       "      <td>LEAF</td>\n",
       "      <td>SV</td>\n",
       "      <td>used</td>\n",
       "      <td>51</td>\n",
       "      <td>1102442</td>\n",
       "      <td>49</td>\n",
       "      <td>22498.816327</td>\n",
       "    </tr>\n",
       "    <tr>\n",
       "      <th>19798</th>\n",
       "      <td>2020-02-01</td>\n",
       "      <td>2018</td>\n",
       "      <td>Nissan</td>\n",
       "      <td>LEAF</td>\n",
       "      <td>SV</td>\n",
       "      <td>used</td>\n",
       "      <td>47</td>\n",
       "      <td>971392</td>\n",
       "      <td>43</td>\n",
       "      <td>22590.511628</td>\n",
       "    </tr>\n",
       "    <tr>\n",
       "      <th>34348</th>\n",
       "      <td>2020-03-01</td>\n",
       "      <td>2018</td>\n",
       "      <td>Nissan</td>\n",
       "      <td>LEAF</td>\n",
       "      <td>SV</td>\n",
       "      <td>used</td>\n",
       "      <td>50</td>\n",
       "      <td>1053150</td>\n",
       "      <td>46</td>\n",
       "      <td>22894.565217</td>\n",
       "    </tr>\n",
       "    <tr>\n",
       "      <th>48943</th>\n",
       "      <td>2020-04-01</td>\n",
       "      <td>2018</td>\n",
       "      <td>Nissan</td>\n",
       "      <td>LEAF</td>\n",
       "      <td>SV</td>\n",
       "      <td>used</td>\n",
       "      <td>68</td>\n",
       "      <td>1452211</td>\n",
       "      <td>64</td>\n",
       "      <td>22690.796875</td>\n",
       "    </tr>\n",
       "    <tr>\n",
       "      <th>63783</th>\n",
       "      <td>2020-05-01</td>\n",
       "      <td>2018</td>\n",
       "      <td>Nissan</td>\n",
       "      <td>LEAF</td>\n",
       "      <td>SV</td>\n",
       "      <td>used</td>\n",
       "      <td>81</td>\n",
       "      <td>1738607</td>\n",
       "      <td>79</td>\n",
       "      <td>22007.683544</td>\n",
       "    </tr>\n",
       "  </tbody>\n",
       "</table>\n",
       "</div>"
      ],
      "text/plain": [
       "      ReportDate  ModelYear DivisionName ModelName Trim StockType  \\\n",
       "5538  2020-01-01       2018       Nissan      LEAF   SV      used   \n",
       "19798 2020-02-01       2018       Nissan      LEAF   SV      used   \n",
       "34348 2020-03-01       2018       Nissan      LEAF   SV      used   \n",
       "48943 2020-04-01       2018       Nissan      LEAF   SV      used   \n",
       "63783 2020-05-01       2018       Nissan      LEAF   SV      used   \n",
       "\n",
       "       vehicleCount  totalPrice  avgPriceCount      avgPrice  \n",
       "5538             51     1102442             49  22498.816327  \n",
       "19798            47      971392             43  22590.511628  \n",
       "34348            50     1053150             46  22894.565217  \n",
       "48943            68     1452211             64  22690.796875  \n",
       "63783            81     1738607             79  22007.683544  "
      ]
     },
     "execution_count": 37,
     "metadata": {},
     "output_type": "execute_result"
    }
   ],
   "source": [
    "leafSV = df.loc[(df['ModelYear'] == 2018) & (df[\"DivisionName\"] == \"Nissan\") & (df[\"ModelName\"] == \"LEAF\") & (df[\"Trim\"] == \"SV\") & (df[\"StockType\"] == \"used\")]\n",
    "leafSV.head()"
   ]
  },
  {
   "cell_type": "code",
   "execution_count": 38,
   "metadata": {},
   "outputs": [
    {
     "data": {
      "text/plain": [
       "<matplotlib.axes._subplots.AxesSubplot at 0x7f97a6c55a50>"
      ]
     },
     "execution_count": 38,
     "metadata": {},
     "output_type": "execute_result"
    },
    {
     "data": {
      "image/png": "[encoded data removed]",
      "text/plain": [
       "<Figure size 432x288 with 1 Axes>"
      ]
     },
     "metadata": {
      "needs_background": "light"
     },
     "output_type": "display_data"
    }
   ],
   "source": [
    "leafSV.plot.line(x='ReportDate', y='avgPrice')"
   ]
  },
  {
   "cell_type": "code",
   "execution_count": null,
   "metadata": {},
   "outputs": [],
   "source": []
  }
 ],
 "metadata": {
  "kernelspec": {
   "display_name": "Python 3",
   "language": "python",
   "name": "python3"
  },
  "language_info": {
   "codemirror_mode": {
    "name": "ipython",
    "version": 3
   },
   "file_extension": ".py",
   "mimetype": "text/x-python",
   "name": "python",
   "nbconvert_exporter": "python",
   "pygments_lexer": "ipython3",
   "version": "3.7.6"
  }
 },
 "nbformat": 4,
 "nbformat_minor": 4
}
